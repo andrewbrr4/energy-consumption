{
 "cells": [
  {
   "cell_type": "markdown",
   "metadata": {
    "colab_type": "text",
    "id": "2URjf0_REx_A"
   },
   "source": [
    "# Import and Functions"
   ]
  },
  {
   "cell_type": "code",
   "execution_count": 13,
   "metadata": {
    "colab": {
     "base_uri": "https://localhost:8080/",
     "height": 683
    },
    "colab_type": "code",
    "id": "fbSICfxtFKAN",
    "outputId": "5800cbf4-e8e4-44af-b4df-c257c4c01e77"
   },
   "outputs": [
    {
     "ename": "ModuleNotFoundError",
     "evalue": "No module named 'boto3'",
     "output_type": "error",
     "traceback": [
      "\u001b[0;31m---------------------------------------------------------------------------\u001b[0m",
      "\u001b[0;31mModuleNotFoundError\u001b[0m                       Traceback (most recent call last)",
      "\u001b[0;32m<ipython-input-13-44c1f09f96a9>\u001b[0m in \u001b[0;36m<module>\u001b[0;34m()\u001b[0m\n\u001b[1;32m      6\u001b[0m \u001b[0;32mimport\u001b[0m \u001b[0mpandas_profiling\u001b[0m\u001b[0;34m\u001b[0m\u001b[0m\n\u001b[1;32m      7\u001b[0m \u001b[0;32mimport\u001b[0m \u001b[0msklearn\u001b[0m\u001b[0;34m\u001b[0m\u001b[0m\n\u001b[0;32m----> 8\u001b[0;31m \u001b[0;32mimport\u001b[0m \u001b[0mboto3\u001b[0m\u001b[0;34m\u001b[0m\u001b[0m\n\u001b[0m\u001b[1;32m      9\u001b[0m \u001b[0;32mfrom\u001b[0m \u001b[0mboto3\u001b[0m \u001b[0;32mimport\u001b[0m \u001b[0msession\u001b[0m\u001b[0;34m\u001b[0m\u001b[0m\n\u001b[1;32m     10\u001b[0m \u001b[0;34m\u001b[0m\u001b[0m\n",
      "\u001b[0;31mModuleNotFoundError\u001b[0m: No module named 'boto3'"
     ]
    }
   ],
   "source": [
    "import pandas as pd \n",
    "import numpy as np\n",
    "import seaborn as sns\n",
    "import requests\n",
    "from bs4 import BeautifulSoup\n",
    "import pandas_profiling\n",
    "import sklearn\n",
    "import boto3\n",
    "from boto3 import session\n",
    "\n",
    "from sklearn.svm import SVC\n",
    "from sklearn.model_selection import GridSearchCV\n",
    "#from sklearn.cross_validation import cross_val_score, cross_val_predict, train_test_split, KFold, StratifiedKFold\n",
    "from sklearn import datasets, linear_model, metrics, preprocessing, pipeline\n",
    "from sklearn.pipeline import make_union, make_pipeline, Pipeline\n",
    "from sklearn.linear_model import LogisticRegression\n",
    "from sklearn.feature_extraction.text import CountVectorizer, TfidfVectorizer\n",
    "from sklearn.tree import DecisionTreeClassifier\n",
    "from sklearn.ensemble import RandomForestClassifier, ExtraTreesClassifier, BaggingClassifier\n",
    "from sklearn.preprocessing import LabelEncoder\n",
    "from sklearn.metrics import mean_squared_error, classification_report, confusion_matrix, accuracy_score, r2_score\n",
    "from sklearn.neighbors import KNeighborsClassifier\n",
    "\n",
    "import scipy.stats as stats\n",
    "import statsmodels.api as sm\n",
    "import statsmodels.formula.api as smf\n",
    "import patsy \n",
    "\n",
    "import matplotlib.pyplot as plt \n",
    "%matplotlib inline\n",
    "import seaborn as sns\n",
    "import plotly\n",
    "\n",
    "import re\n",
    "import sys\n",
    "import datetime as dt\n",
    "import time\n",
    "from time import sleep\n",
    "\n",
    "\n",
    "!pip install fancyimpute\n",
    "import fancyimpute\n",
    "# documentation: https://pypi.org/project/fancyimpute/"
   ]
  },
  {
   "cell_type": "code",
   "execution_count": 14,
   "metadata": {
    "colab": {},
    "colab_type": "code",
    "id": "50ktrb8_N-n4"
   },
   "outputs": [],
   "source": [
    "#Exploratory Data Analysis\n",
    "\n",
    "def get_variable_category(series):\n",
    "    unique_count = series.nunique(dropna=False)\n",
    "    total_count = len(series)\n",
    "    if pd.api.types.is_numeric_dtype(series):\n",
    "        return 'Numerical'\n",
    "    elif pd.api.types.is_datetime64_dtype(series):\n",
    "        return 'Date'\n",
    "    elif unique_count==total_count:\n",
    "        return 'Text (Unique)'\n",
    "    else:\n",
    "        return 'Categorical'\n",
    "\n",
    "def print_variable_categories(data):\n",
    "    for column_name in data.columns:\n",
    "        print(column_name, ': ', get_variable_category(data[column_name]))\n",
    "        \n",
    "def datainspect(dataframe):\n",
    "    '''Inspect data'''\n",
    "    print('ROWS AND COLUMNS: \\n', dataframe.shape,'\\n')\n",
    "    print('MISSING VALUES: \\n', dataframe.isnull().sum(),'\\n')\n",
    "    print('DUPLICATE ROWS \\n', dataframe.duplicated().sum(),'\\n') \n",
    "    print('DATA TYPES: \\n', dataframe.dtypes,\"\\n\")\n",
    "    print('DATAFRAME DESCRIBE: \\n \\n', dataframe.describe(include='all'),'\\n')\n",
    "    print('UNIQUE VALUES:')\n",
    "    for item in dataframe:\n",
    "        print(item, dataframe[item].nunique())\n",
    "    print('\\n')\n",
    "    print('VARIABLE CATEGORIES:', '\\n' )\n",
    "    print(print_variable_categories(dataframe))\n"
   ]
  },
  {
   "cell_type": "code",
   "execution_count": 15,
   "metadata": {
    "colab": {
     "base_uri": "https://localhost:8080/",
     "height": 51
    },
    "colab_type": "code",
    "id": "1OqhjPt_Rkix",
    "outputId": "983459e0-fbde-450f-e34a-31363e1ccef5"
   },
   "outputs": [],
   "source": [
    "# # Code to read csv file into Colaboratory:\n",
    "# !pip install -U -q PyDrive\n",
    "# from pydrive.auth import GoogleAuth\n",
    "# from pydrive.drive import GoogleDrive\n",
    "# from google.colab import auth\n",
    "# from oauth2client.client import GoogleCredentials\n",
    "# # Authenticate and create the PyDrive client.\n",
    "# auth.authenticate_user()\n",
    "# gauth = GoogleAuth()\n",
    "# gauth.credentials = GoogleCredentials.get_application_default()\n",
    "# drive = GoogleDrive(gauth)"
   ]
  },
  {
   "cell_type": "markdown",
   "metadata": {
    "colab_type": "text",
    "id": "KXs5HWRxbW2Q"
   },
   "source": [
    "Datasets\n",
    "Historical Consumption\n",
    "A selected time series of consumption data for over 200 buildings.\n",
    "\n",
    "obs_id - An arbitrary ID for the observationaa\n",
    "SiteId - An arbitrary ID number for the building, matches across datasets\n",
    "ForecastId - An ID for a timeseries that is part of a forecast (can be matched with the submission file)\n",
    "Timestamp - The time of the measurement\n",
    "Value - A measure of consumption for that building\n",
    "Building Metadata\n",
    "Additional information about the included buildings.\n",
    "\n",
    "SiteId - An arbitrary ID number for the building, matches across datasets\n",
    "Surface - The surface area of the building\n",
    "Sampling - The number of minutes between each observation for this site. The timestep size for each ForecastId can be found in the separate \"Submission Forecast Period\" file on the data download page.\n",
    "BaseTemperature - The base temperature for the building\n",
    "[DAY_OF_WEEK]IsDayOff - True if DAY_OF_WEEK is not a work day\n",
    "Historical Weather Data\n",
    "This dataset contains temperature data from several stations near each site. For each site several temperature measurements were retrieved from stations in a radius of 30 km if available.\n",
    "\n",
    "Note: Not all sites will have available weather data.\n",
    "\n",
    "Note: Weather data is available for test periods under the assumption that reasonably accurate forecasts will be available to algorithms that the time that we are attempting to make predictions about the future.\n",
    "\n",
    "SiteId - An arbitrary ID number for the building, matches across datasets\n",
    "Timestamp - The time of the measurement\n",
    "Temperature - The temperature as measured at the weather station\n",
    "Distance - The distance in km from the weather station to the building in km\n",
    "Public Holidays\n",
    "Public holidays at the sites included in the dataset, which may be helpful for identifying days where consumption may be lower than expected.\n",
    "\n",
    "Note: Not all sites will have available public holiday data.\n",
    "\n",
    "SiteId - An arbitrary ID number for the building, matches across datasets\n",
    "Date - The date of the holiday\n",
    "Holiday - The name of the holiday"
   ]
  },
  {
   "cell_type": "markdown",
   "metadata": {
    "colab_type": "text",
    "id": "3SJcZ9NUFnDm"
   },
   "source": [
    "# Submission Forecast Period (not using)"
   ]
  },
  {
   "cell_type": "markdown",
   "metadata": {
    "colab_type": "text",
    "id": "PyMTiS4hxHdY"
   },
   "source": [
    "**There are no days off for buildings Monday - Thursday**\n",
    "**Minimal days off for friday, saturday, sunday\n"
   ]
  },
  {
   "cell_type": "code",
   "execution_count": 16,
   "metadata": {
    "colab": {
     "base_uri": "https://localhost:8080/",
     "height": 34
    },
    "colab_type": "code",
    "id": "VL3bJa0TiBEv",
    "outputId": "5c172a5d-6f39-4a87-e267-12cc756e0ad5"
   },
   "outputs": [
    {
     "name": "stdout",
     "output_type": "stream",
     "text": [
      "1S59Hrh4yduw3Ee_X5yHzHDlSbg-1PkUK\n"
     ]
    }
   ],
   "source": [
    "submission_forecast_period = 'https://drive.google.com/open?id=1S59Hrh4yduw3Ee_X5yHzHDlSbg-1PkUK'\n",
    "fluff, id = submission_forecast_period.split('=')\n",
    "print (id)"
   ]
  },
  {
   "cell_type": "code",
   "execution_count": 17,
   "metadata": {
    "colab": {
     "base_uri": "https://localhost:8080/",
     "height": 195
    },
    "colab_type": "code",
    "id": "xjoDOipriQz6",
    "outputId": "deb7d2b7-c83f-46c3-9efa-80afdac760ad"
   },
   "outputs": [
    {
     "data": {
      "text/html": [
       "<div>\n",
       "<style scoped>\n",
       "    .dataframe tbody tr th:only-of-type {\n",
       "        vertical-align: middle;\n",
       "    }\n",
       "\n",
       "    .dataframe tbody tr th {\n",
       "        vertical-align: top;\n",
       "    }\n",
       "\n",
       "    .dataframe thead th {\n",
       "        text-align: right;\n",
       "    }\n",
       "</style>\n",
       "<table border=\"1\" class=\"dataframe\">\n",
       "  <thead>\n",
       "    <tr style=\"text-align: right;\">\n",
       "      <th></th>\n",
       "      <th>ForecastId</th>\n",
       "      <th>ForecastPeriodNS</th>\n",
       "    </tr>\n",
       "  </thead>\n",
       "  <tbody>\n",
       "    <tr>\n",
       "      <th>0</th>\n",
       "      <td>18</td>\n",
       "      <td>3600000000000</td>\n",
       "    </tr>\n",
       "    <tr>\n",
       "      <th>1</th>\n",
       "      <td>58</td>\n",
       "      <td>900000000000</td>\n",
       "    </tr>\n",
       "    <tr>\n",
       "      <th>2</th>\n",
       "      <td>64</td>\n",
       "      <td>900000000000</td>\n",
       "    </tr>\n",
       "    <tr>\n",
       "      <th>3</th>\n",
       "      <td>89</td>\n",
       "      <td>900000000000</td>\n",
       "    </tr>\n",
       "    <tr>\n",
       "      <th>4</th>\n",
       "      <td>101</td>\n",
       "      <td>900000000000</td>\n",
       "    </tr>\n",
       "  </tbody>\n",
       "</table>\n",
       "</div>"
      ],
      "text/plain": [
       "   ForecastId  ForecastPeriodNS\n",
       "0          18     3600000000000\n",
       "1          58      900000000000\n",
       "2          64      900000000000\n",
       "3          89      900000000000\n",
       "4         101      900000000000"
      ]
     },
     "execution_count": 17,
     "metadata": {},
     "output_type": "execute_result"
    }
   ],
   "source": [
    "submission_forecast_period = pd.read_csv('../data/power-laws-forecasting-energy-consumption-submission-forecast-period.csv', sep = ';')\n",
    "submission_forecast_period.head()"
   ]
  },
  {
   "cell_type": "code",
   "execution_count": 18,
   "metadata": {
    "colab": {
     "base_uri": "https://localhost:8080/",
     "height": 655
    },
    "colab_type": "code",
    "id": "s_VO2XaSOmzb",
    "outputId": "152b51b9-dcf7-4c73-d0ad-5c2ffb785e00"
   },
   "outputs": [
    {
     "name": "stdout",
     "output_type": "stream",
     "text": [
      "ROWS AND COLUMNS: \n",
      " (6974, 2) \n",
      "\n",
      "MISSING VALUES: \n",
      " ForecastId          0\n",
      "ForecastPeriodNS    0\n",
      "dtype: int64 \n",
      "\n",
      "DUPLICATE ROWS \n",
      " 0 \n",
      "\n",
      "DATA TYPES: \n",
      " ForecastId          int64\n",
      "ForecastPeriodNS    int64\n",
      "dtype: object \n",
      "\n",
      "DATAFRAME DESCRIBE: \n",
      " \n",
      "         ForecastId  ForecastPeriodNS\n",
      "count  6974.000000      6.974000e+03\n",
      "mean   3487.500000      4.151821e+12\n",
      "std    2013.364721      1.502076e+13\n",
      "min       1.000000      9.000000e+11\n",
      "25%    1744.250000      9.000000e+11\n",
      "50%    3487.500000      9.000000e+11\n",
      "75%    5230.750000      9.000000e+11\n",
      "max    6974.000000      8.640000e+13 \n",
      "\n",
      "UNIQUE VALUES:\n",
      "ForecastId 6974\n",
      "ForecastPeriodNS 3\n",
      "\n",
      "\n",
      "VARIABLE CATEGORIES: \n",
      "\n",
      "ForecastId :  Numerical\n",
      "ForecastPeriodNS :  Numerical\n",
      "None\n"
     ]
    }
   ],
   "source": [
    "datainspect(submission_forecast_period)"
   ]
  },
  {
   "cell_type": "code",
   "execution_count": 19,
   "metadata": {
    "colab": {
     "base_uri": "https://localhost:8080/",
     "height": 326
    },
    "colab_type": "code",
    "id": "BO-xAs2Wz9v3",
    "outputId": "b2631b2d-09ad-4e12-8bbb-abb596b8ad26"
   },
   "outputs": [
    {
     "data": {
      "image/png": "[encoded data removed]",
      "text/plain": [
       "<Figure size 432x288 with 1 Axes>"
      ]
     },
     "metadata": {
      "needs_background": "light"
     },
     "output_type": "display_data"
    }
   ],
   "source": [
    "submission_forecast_period.plot(kind='scatter', x='ForecastId', y='ForecastPeriodNS');"
   ]
  },
  {
   "cell_type": "code",
   "execution_count": 20,
   "metadata": {
    "colab": {
     "base_uri": "https://localhost:8080/",
     "height": 293
    },
    "colab_type": "code",
    "id": "M2IktXyw1hOv",
    "outputId": "991efb3d-61ce-4aa4-f9b7-4b06cc7edfab"
   },
   "outputs": [
    {
     "data": {
      "text/plain": [
       "<matplotlib.axes._subplots.AxesSubplot at 0x1a18e775c0>"
      ]
     },
     "execution_count": 20,
     "metadata": {},
     "output_type": "execute_result"
    },
    {
     "data": {
      "image/png": "[encoded data removed]",
      "text/plain": [
       "<Figure size 432x288 with 2 Axes>"
      ]
     },
     "metadata": {
      "needs_background": "light"
     },
     "output_type": "display_data"
    }
   ],
   "source": [
    "correlation = submission_forecast_period.corr()                            # correlation between ALL variables \n",
    "sns.heatmap(correlation, cmap='bwr')"
   ]
  },
  {
   "cell_type": "markdown",
   "metadata": {
    "colab_type": "text",
    "id": "pKmBwIWHFuAH"
   },
   "source": [
    "# Submission Format (not using)"
   ]
  },
  {
   "cell_type": "code",
   "execution_count": 21,
   "metadata": {
    "colab": {
     "base_uri": "https://localhost:8080/",
     "height": 34
    },
    "colab_type": "code",
    "id": "OdgrBxjrizZJ",
    "outputId": "19431d6f-d846-47b7-8869-55de48474ed8"
   },
   "outputs": [
    {
     "name": "stdout",
     "output_type": "stream",
     "text": [
      "1B196PxseHWY4DTGgy1dUMqwtm7MFEw_r\n"
     ]
    }
   ],
   "source": [
    "submission_format = 'https://drive.google.com/open?id=1B196PxseHWY4DTGgy1dUMqwtm7MFEw_r'\n",
    "fluff, id = submission_format.split('=')\n",
    "print (id)"
   ]
  },
  {
   "cell_type": "code",
   "execution_count": 22,
   "metadata": {
    "colab": {
     "base_uri": "https://localhost:8080/",
     "height": 195
    },
    "colab_type": "code",
    "id": "PDiFXBWJkb5H",
    "outputId": "d1632ab6-1e87-4135-f7b9-066b40b3e23b"
   },
   "outputs": [
    {
     "data": {
      "text/html": [
       "<div>\n",
       "<style scoped>\n",
       "    .dataframe tbody tr th:only-of-type {\n",
       "        vertical-align: middle;\n",
       "    }\n",
       "\n",
       "    .dataframe tbody tr th {\n",
       "        vertical-align: top;\n",
       "    }\n",
       "\n",
       "    .dataframe thead th {\n",
       "        text-align: right;\n",
       "    }\n",
       "</style>\n",
       "<table border=\"1\" class=\"dataframe\">\n",
       "  <thead>\n",
       "    <tr style=\"text-align: right;\">\n",
       "      <th></th>\n",
       "      <th>obs_id</th>\n",
       "      <th>SiteId</th>\n",
       "      <th>Timestamp</th>\n",
       "      <th>ForecastId</th>\n",
       "      <th>Value</th>\n",
       "    </tr>\n",
       "  </thead>\n",
       "  <tbody>\n",
       "    <tr>\n",
       "      <th>0</th>\n",
       "      <td>2535749</td>\n",
       "      <td>143</td>\n",
       "      <td>2017-08-28</td>\n",
       "      <td>3146</td>\n",
       "      <td>0.0</td>\n",
       "    </tr>\n",
       "    <tr>\n",
       "      <th>1</th>\n",
       "      <td>7300088</td>\n",
       "      <td>143</td>\n",
       "      <td>2017-08-28</td>\n",
       "      <td>3146</td>\n",
       "      <td>0.0</td>\n",
       "    </tr>\n",
       "    <tr>\n",
       "      <th>2</th>\n",
       "      <td>1465337</td>\n",
       "      <td>143</td>\n",
       "      <td>2017-08-28</td>\n",
       "      <td>3146</td>\n",
       "      <td>0.0</td>\n",
       "    </tr>\n",
       "    <tr>\n",
       "      <th>3</th>\n",
       "      <td>4747700</td>\n",
       "      <td>143</td>\n",
       "      <td>2017-08-28</td>\n",
       "      <td>3146</td>\n",
       "      <td>0.0</td>\n",
       "    </tr>\n",
       "    <tr>\n",
       "      <th>4</th>\n",
       "      <td>6008051</td>\n",
       "      <td>143</td>\n",
       "      <td>2017-08-28</td>\n",
       "      <td>3146</td>\n",
       "      <td>0.0</td>\n",
       "    </tr>\n",
       "  </tbody>\n",
       "</table>\n",
       "</div>"
      ],
      "text/plain": [
       "    obs_id  SiteId   Timestamp  ForecastId  Value\n",
       "0  2535749     143  2017-08-28        3146    0.0\n",
       "1  7300088     143  2017-08-28        3146    0.0\n",
       "2  1465337     143  2017-08-28        3146    0.0\n",
       "3  4747700     143  2017-08-28        3146    0.0\n",
       "4  6008051     143  2017-08-28        3146    0.0"
      ]
     },
     "execution_count": 22,
     "metadata": {},
     "output_type": "execute_result"
    }
   ],
   "source": [
    "submission_format = pd.read_csv('../data/power-laws-forecasting-energy-consumption-submission-format.csv', sep = ';')\n",
    "submission_format.head()"
   ]
  },
  {
   "cell_type": "code",
   "execution_count": 23,
   "metadata": {
    "colab": {
     "base_uri": "https://localhost:8080/",
     "height": 907
    },
    "colab_type": "code",
    "id": "kmj74_hgOwHC",
    "outputId": "03a9a426-e7b4-437b-f44e-146f69da28e8"
   },
   "outputs": [
    {
     "name": "stdout",
     "output_type": "stream",
     "text": [
      "ROWS AND COLUMNS: \n",
      " (1309176, 5) \n",
      "\n",
      "MISSING VALUES: \n",
      " obs_id        0\n",
      "SiteId        0\n",
      "Timestamp     0\n",
      "ForecastId    0\n",
      "Value         0\n",
      "dtype: int64 \n",
      "\n",
      "DUPLICATE ROWS \n",
      " 0 \n",
      "\n",
      "DATA TYPES: \n",
      " obs_id          int64\n",
      "SiteId          int64\n",
      "Timestamp      object\n",
      "ForecastId      int64\n",
      "Value         float64\n",
      "dtype: object \n",
      "\n",
      "DATAFRAME DESCRIBE: \n",
      " \n",
      "               obs_id        SiteId   Timestamp    ForecastId      Value\n",
      "count   1.309176e+06  1.309176e+06     1309176  1.309176e+06  1309176.0\n",
      "unique           NaN           NaN        2269           NaN        NaN\n",
      "top              NaN           NaN  2016-07-26           NaN        NaN\n",
      "freq             NaN           NaN        2597           NaN        NaN\n",
      "mean    3.931478e+06  1.621134e+02         NaN  3.482680e+03        0.0\n",
      "std     2.271962e+06  9.393814e+01         NaN  2.009967e+03        0.0\n",
      "min     2.000000e+00  1.000000e+00         NaN  1.000000e+00        0.0\n",
      "25%     1.963225e+06  8.700000e+01         NaN  1.744000e+03        0.0\n",
      "50%     3.930562e+06  1.730000e+02         NaN  3.489000e+03        0.0\n",
      "75%     5.900716e+06  2.370000e+02         NaN  5.217000e+03        0.0\n",
      "max     7.869003e+06  3.050000e+02         NaN  6.974000e+03        0.0 \n",
      "\n",
      "UNIQUE VALUES:\n",
      "obs_id 1309176\n",
      "SiteId 267\n",
      "Timestamp 2269\n",
      "ForecastId 6974\n",
      "Value 1\n",
      "\n",
      "\n",
      "VARIABLE CATEGORIES: \n",
      "\n",
      "obs_id :  Numerical\n",
      "SiteId :  Numerical\n",
      "Timestamp :  Categorical\n",
      "ForecastId :  Numerical\n",
      "Value :  Numerical\n",
      "None\n"
     ]
    }
   ],
   "source": [
    "datainspect(submission_format)"
   ]
  },
  {
   "cell_type": "markdown",
   "metadata": {
    "colab_type": "text",
    "id": "TT8Nwt5REnIv"
   },
   "source": [
    "# Holidays"
   ]
  },
  {
   "cell_type": "code",
   "execution_count": 24,
   "metadata": {
    "colab": {
     "base_uri": "https://localhost:8080/",
     "height": 34
    },
    "colab_type": "code",
    "id": "0Hp5R7vIf-4C",
    "outputId": "c8cf25ff-2bae-4758-b011-6f5f01e3670a"
   },
   "outputs": [
    {
     "name": "stdout",
     "output_type": "stream",
     "text": [
      "1H0TqoTnei1_8DP-ttDsOsJyVkmytQZLG\n"
     ]
    }
   ],
   "source": [
    "holidays = 'https://drive.google.com/open?id=1H0TqoTnei1_8DP-ttDsOsJyVkmytQZLG'\n",
    "fluff, id = holidays.split('=')\n",
    "print (id)"
   ]
  },
  {
   "cell_type": "code",
   "execution_count": 25,
   "metadata": {
    "colab": {
     "base_uri": "https://localhost:8080/",
     "height": 204
    },
    "colab_type": "code",
    "id": "nmsSxfjXgxVV",
    "outputId": "a6a12b73-85b6-44a6-8496-5666fa81952f"
   },
   "outputs": [
    {
     "data": {
      "text/html": [
       "<div>\n",
       "<style scoped>\n",
       "    .dataframe tbody tr th:only-of-type {\n",
       "        vertical-align: middle;\n",
       "    }\n",
       "\n",
       "    .dataframe tbody tr th {\n",
       "        vertical-align: top;\n",
       "    }\n",
       "\n",
       "    .dataframe thead th {\n",
       "        text-align: right;\n",
       "    }\n",
       "</style>\n",
       "<table border=\"1\" class=\"dataframe\">\n",
       "  <thead>\n",
       "    <tr style=\"text-align: right;\">\n",
       "      <th></th>\n",
       "      <th>Date</th>\n",
       "      <th>Holiday</th>\n",
       "      <th>SiteId</th>\n",
       "    </tr>\n",
       "  </thead>\n",
       "  <tbody>\n",
       "    <tr>\n",
       "      <th>0</th>\n",
       "      <td>2015-05-01</td>\n",
       "      <td>Workers Day</td>\n",
       "      <td>189</td>\n",
       "    </tr>\n",
       "    <tr>\n",
       "      <th>1</th>\n",
       "      <td>2015-09-24</td>\n",
       "      <td>Heritage Day</td>\n",
       "      <td>189</td>\n",
       "    </tr>\n",
       "    <tr>\n",
       "      <th>2</th>\n",
       "      <td>2017-01-02</td>\n",
       "      <td>New year substitute</td>\n",
       "      <td>190</td>\n",
       "    </tr>\n",
       "    <tr>\n",
       "      <th>3</th>\n",
       "      <td>2017-08-09</td>\n",
       "      <td>National Women Day</td>\n",
       "      <td>190</td>\n",
       "    </tr>\n",
       "    <tr>\n",
       "      <th>4</th>\n",
       "      <td>2017-12-26</td>\n",
       "      <td>Boxing Day</td>\n",
       "      <td>190</td>\n",
       "    </tr>\n",
       "  </tbody>\n",
       "</table>\n",
       "</div>"
      ],
      "text/plain": [
       "         Date              Holiday  SiteId\n",
       "0  2015-05-01          Workers Day     189\n",
       "1  2015-09-24         Heritage Day     189\n",
       "2  2017-01-02  New year substitute     190\n",
       "3  2017-08-09   National Women Day     190\n",
       "4  2017-12-26           Boxing Day     190"
      ]
     },
     "execution_count": 25,
     "metadata": {},
     "output_type": "execute_result"
    }
   ],
   "source": [
    "holidays = pd.read_csv('../data/power-laws-forecasting-energy-consumption-holidays.csv', sep = ';')\n",
    "holidays.head()"
   ]
  },
  {
   "cell_type": "code",
   "execution_count": 26,
   "metadata": {},
   "outputs": [
    {
     "data": {
      "text/html": [
       "<div>\n",
       "<style scoped>\n",
       "    .dataframe tbody tr th:only-of-type {\n",
       "        vertical-align: middle;\n",
       "    }\n",
       "\n",
       "    .dataframe tbody tr th {\n",
       "        vertical-align: top;\n",
       "    }\n",
       "\n",
       "    .dataframe thead th {\n",
       "        text-align: right;\n",
       "    }\n",
       "</style>\n",
       "<table border=\"1\" class=\"dataframe\">\n",
       "  <thead>\n",
       "    <tr style=\"text-align: right;\">\n",
       "      <th></th>\n",
       "      <th>Date</th>\n",
       "      <th>Holiday</th>\n",
       "      <th>SiteId</th>\n",
       "    </tr>\n",
       "  </thead>\n",
       "  <tbody>\n",
       "    <tr>\n",
       "      <th>0</th>\n",
       "      <td>2015-05-01</td>\n",
       "      <td>Workers Day</td>\n",
       "      <td>189</td>\n",
       "    </tr>\n",
       "    <tr>\n",
       "      <th>1</th>\n",
       "      <td>2015-09-24</td>\n",
       "      <td>Heritage Day</td>\n",
       "      <td>189</td>\n",
       "    </tr>\n",
       "    <tr>\n",
       "      <th>2</th>\n",
       "      <td>2017-01-02</td>\n",
       "      <td>New year substitute</td>\n",
       "      <td>190</td>\n",
       "    </tr>\n",
       "    <tr>\n",
       "      <th>3</th>\n",
       "      <td>2017-08-09</td>\n",
       "      <td>National Women Day</td>\n",
       "      <td>190</td>\n",
       "    </tr>\n",
       "    <tr>\n",
       "      <th>4</th>\n",
       "      <td>2017-12-26</td>\n",
       "      <td>Boxing Day</td>\n",
       "      <td>190</td>\n",
       "    </tr>\n",
       "  </tbody>\n",
       "</table>\n",
       "</div>"
      ],
      "text/plain": [
       "        Date              Holiday  SiteId\n",
       "0 2015-05-01          Workers Day     189\n",
       "1 2015-09-24         Heritage Day     189\n",
       "2 2017-01-02  New year substitute     190\n",
       "3 2017-08-09   National Women Day     190\n",
       "4 2017-12-26           Boxing Day     190"
      ]
     },
     "execution_count": 26,
     "metadata": {},
     "output_type": "execute_result"
    }
   ],
   "source": [
    "holidays['Date'] = pd.to_datetime(holidays['Date'])\n",
    "holidays.head()"
   ]
  },
  {
   "cell_type": "code",
   "execution_count": 27,
   "metadata": {
    "colab": {
     "base_uri": "https://localhost:8080/",
     "height": 782
    },
    "colab_type": "code",
    "id": "hBxv-Zo_OUtn",
    "outputId": "a515a0b3-484f-43cc-f6fb-796cf2790fbe"
   },
   "outputs": [
    {
     "name": "stdout",
     "output_type": "stream",
     "text": [
      "ROWS AND COLUMNS: \n",
      " (8387, 3) \n",
      "\n",
      "MISSING VALUES: \n",
      " Date       0\n",
      "Holiday    0\n",
      "SiteId     0\n",
      "dtype: int64 \n",
      "\n",
      "DUPLICATE ROWS \n",
      " 0 \n",
      "\n",
      "DATA TYPES: \n",
      " Date       datetime64[ns]\n",
      "Holiday            object\n",
      "SiteId              int64\n",
      "dtype: object \n",
      "\n",
      "DATAFRAME DESCRIBE: \n",
      " \n",
      "                        Date        Holiday       SiteId\n",
      "count                  8387           8387  8387.000000\n",
      "unique                  346            110          NaN\n",
      "top     2016-12-26 00:00:00  Christmas Day          NaN\n",
      "freq                    253            707          NaN\n",
      "first   2009-01-01 00:00:00            NaN          NaN\n",
      "last    2018-01-01 00:00:00            NaN          NaN\n",
      "mean                    NaN            NaN   156.675808\n",
      "std                     NaN            NaN    85.650221\n",
      "min                     NaN            NaN     1.000000\n",
      "25%                     NaN            NaN    87.000000\n",
      "50%                     NaN            NaN   157.000000\n",
      "75%                     NaN            NaN   216.000000\n",
      "max                     NaN            NaN   305.000000 \n",
      "\n",
      "UNIQUE VALUES:\n",
      "Date 346\n",
      "Holiday 110\n",
      "SiteId 227\n",
      "\n",
      "\n",
      "VARIABLE CATEGORIES: \n",
      "\n",
      "Date :  Date\n",
      "Holiday :  Categorical\n",
      "SiteId :  Numerical\n",
      "None\n"
     ]
    }
   ],
   "source": [
    "datainspect(holidays)"
   ]
  },
  {
   "cell_type": "code",
   "execution_count": 28,
   "metadata": {
    "colab": {
     "base_uri": "https://localhost:8080/",
     "height": 119
    },
    "colab_type": "code",
    "id": "VnYjTY17sX_l",
    "outputId": "ab2d2385-a192-4a7c-ee05-5f22c1ca774d"
   },
   "outputs": [
    {
     "data": {
      "text/plain": [
       "Christmas Day                   707\n",
       "New year                        707\n",
       "Easter Monday                   652\n",
       "All Saints Day                  523\n",
       "Assumption of Mary to Heaven    521\n",
       "Name: Holiday, dtype: int64"
      ]
     },
     "execution_count": 28,
     "metadata": {},
     "output_type": "execute_result"
    }
   ],
   "source": [
    "holidays['Holiday'].value_counts().head()"
   ]
  },
  {
   "cell_type": "markdown",
   "metadata": {
    "colab_type": "text",
    "id": "SUfcXAWvEsn9"
   },
   "source": [
    "# Metadata"
   ]
  },
  {
   "cell_type": "code",
   "execution_count": 29,
   "metadata": {
    "colab": {
     "base_uri": "https://localhost:8080/",
     "height": 34
    },
    "colab_type": "code",
    "id": "aQAJsOn2g_pe",
    "outputId": "90b1fb8e-0cb1-4271-9b1d-85185b6e3ea3"
   },
   "outputs": [
    {
     "name": "stdout",
     "output_type": "stream",
     "text": [
      "1dpwWIs3EyLkaaOSN8ws8gMHgCFsRTYK3\n"
     ]
    }
   ],
   "source": [
    "metadata = 'https://drive.google.com/open?id=1dpwWIs3EyLkaaOSN8ws8gMHgCFsRTYK3'\n",
    "fluff, id = metadata.split('=')\n",
    "print (id)"
   ]
  },
  {
   "cell_type": "code",
   "execution_count": 30,
   "metadata": {
    "colab": {
     "base_uri": "https://localhost:8080/",
     "height": 195
    },
    "colab_type": "code",
    "id": "h8Wq9SOhh70h",
    "outputId": "e2c392f3-fc2b-43a0-ebb6-7d8dc12e9c0c"
   },
   "outputs": [
    {
     "data": {
      "text/html": [
       "<div>\n",
       "<style scoped>\n",
       "    .dataframe tbody tr th:only-of-type {\n",
       "        vertical-align: middle;\n",
       "    }\n",
       "\n",
       "    .dataframe tbody tr th {\n",
       "        vertical-align: top;\n",
       "    }\n",
       "\n",
       "    .dataframe thead th {\n",
       "        text-align: right;\n",
       "    }\n",
       "</style>\n",
       "<table border=\"1\" class=\"dataframe\">\n",
       "  <thead>\n",
       "    <tr style=\"text-align: right;\">\n",
       "      <th></th>\n",
       "      <th>SiteId</th>\n",
       "      <th>Surface</th>\n",
       "      <th>Sampling</th>\n",
       "      <th>BaseTemperature</th>\n",
       "      <th>MondayIsDayOff</th>\n",
       "      <th>TuesdayIsDayOff</th>\n",
       "      <th>WednesdayIsDayOff</th>\n",
       "      <th>ThursdayIsDayOff</th>\n",
       "      <th>FridayIsDayOff</th>\n",
       "      <th>SaturdayIsDayOff</th>\n",
       "      <th>SundayIsDayOff</th>\n",
       "    </tr>\n",
       "  </thead>\n",
       "  <tbody>\n",
       "    <tr>\n",
       "      <th>0</th>\n",
       "      <td>25</td>\n",
       "      <td>2201.924904</td>\n",
       "      <td>15.0</td>\n",
       "      <td>18.0</td>\n",
       "      <td>False</td>\n",
       "      <td>False</td>\n",
       "      <td>False</td>\n",
       "      <td>False</td>\n",
       "      <td>False</td>\n",
       "      <td>True</td>\n",
       "      <td>True</td>\n",
       "    </tr>\n",
       "    <tr>\n",
       "      <th>1</th>\n",
       "      <td>49</td>\n",
       "      <td>1046.032846</td>\n",
       "      <td>15.0</td>\n",
       "      <td>18.0</td>\n",
       "      <td>False</td>\n",
       "      <td>False</td>\n",
       "      <td>False</td>\n",
       "      <td>False</td>\n",
       "      <td>False</td>\n",
       "      <td>True</td>\n",
       "      <td>True</td>\n",
       "    </tr>\n",
       "    <tr>\n",
       "      <th>2</th>\n",
       "      <td>73</td>\n",
       "      <td>1278.139659</td>\n",
       "      <td>15.0</td>\n",
       "      <td>18.0</td>\n",
       "      <td>False</td>\n",
       "      <td>False</td>\n",
       "      <td>False</td>\n",
       "      <td>False</td>\n",
       "      <td>False</td>\n",
       "      <td>True</td>\n",
       "      <td>True</td>\n",
       "    </tr>\n",
       "    <tr>\n",
       "      <th>3</th>\n",
       "      <td>105</td>\n",
       "      <td>15684.678378</td>\n",
       "      <td>10.0</td>\n",
       "      <td>18.0</td>\n",
       "      <td>False</td>\n",
       "      <td>False</td>\n",
       "      <td>False</td>\n",
       "      <td>False</td>\n",
       "      <td>False</td>\n",
       "      <td>True</td>\n",
       "      <td>True</td>\n",
       "    </tr>\n",
       "    <tr>\n",
       "      <th>4</th>\n",
       "      <td>117</td>\n",
       "      <td>18772.751947</td>\n",
       "      <td>15.0</td>\n",
       "      <td>18.0</td>\n",
       "      <td>False</td>\n",
       "      <td>False</td>\n",
       "      <td>False</td>\n",
       "      <td>False</td>\n",
       "      <td>False</td>\n",
       "      <td>False</td>\n",
       "      <td>False</td>\n",
       "    </tr>\n",
       "  </tbody>\n",
       "</table>\n",
       "</div>"
      ],
      "text/plain": [
       "   SiteId       Surface  Sampling  BaseTemperature  MondayIsDayOff  \\\n",
       "0      25   2201.924904      15.0             18.0           False   \n",
       "1      49   1046.032846      15.0             18.0           False   \n",
       "2      73   1278.139659      15.0             18.0           False   \n",
       "3     105  15684.678378      10.0             18.0           False   \n",
       "4     117  18772.751947      15.0             18.0           False   \n",
       "\n",
       "   TuesdayIsDayOff  WednesdayIsDayOff  ThursdayIsDayOff  FridayIsDayOff  \\\n",
       "0            False              False             False           False   \n",
       "1            False              False             False           False   \n",
       "2            False              False             False           False   \n",
       "3            False              False             False           False   \n",
       "4            False              False             False           False   \n",
       "\n",
       "   SaturdayIsDayOff  SundayIsDayOff  \n",
       "0              True            True  \n",
       "1              True            True  \n",
       "2              True            True  \n",
       "3              True            True  \n",
       "4             False           False  "
      ]
     },
     "execution_count": 30,
     "metadata": {},
     "output_type": "execute_result"
    }
   ],
   "source": [
    "metadata = pd.read_csv('../data/power-laws-forecasting-energy-consumption-metadata.csv', sep = ';')\n",
    "metadata.head()"
   ]
  },
  {
   "cell_type": "code",
   "execution_count": 31,
   "metadata": {
    "colab": {
     "base_uri": "https://localhost:8080/",
     "height": 1747
    },
    "colab_type": "code",
    "id": "QEszZ_3nOh_U",
    "outputId": "13c621a6-fffa-49d2-d1ba-33174ff01227"
   },
   "outputs": [
    {
     "name": "stdout",
     "output_type": "stream",
     "text": [
      "ROWS AND COLUMNS: \n",
      " (267, 11) \n",
      "\n",
      "MISSING VALUES: \n",
      " SiteId               0\n",
      "Surface              0\n",
      "Sampling             0\n",
      "BaseTemperature      0\n",
      "MondayIsDayOff       0\n",
      "TuesdayIsDayOff      0\n",
      "WednesdayIsDayOff    0\n",
      "ThursdayIsDayOff     0\n",
      "FridayIsDayOff       0\n",
      "SaturdayIsDayOff     0\n",
      "SundayIsDayOff       0\n",
      "dtype: int64 \n",
      "\n",
      "DUPLICATE ROWS \n",
      " 0 \n",
      "\n",
      "DATA TYPES: \n",
      " SiteId                 int64\n",
      "Surface              float64\n",
      "Sampling             float64\n",
      "BaseTemperature      float64\n",
      "MondayIsDayOff          bool\n",
      "TuesdayIsDayOff         bool\n",
      "WednesdayIsDayOff       bool\n",
      "ThursdayIsDayOff        bool\n",
      "FridayIsDayOff          bool\n",
      "SaturdayIsDayOff        bool\n",
      "SundayIsDayOff          bool\n",
      "dtype: object \n",
      "\n",
      "DATAFRAME DESCRIBE: \n",
      " \n",
      "             SiteId       Surface    Sampling  BaseTemperature MondayIsDayOff  \\\n",
      "count   267.000000    267.000000  267.000000       267.000000            267   \n",
      "unique         NaN           NaN         NaN              NaN              1   \n",
      "top            NaN           NaN         NaN              NaN          False   \n",
      "freq           NaN           NaN         NaN              NaN            267   \n",
      "mean    157.719101   7894.541319   14.438202        18.026217            NaN   \n",
      "std      88.781093   9744.769014    4.715887         0.251436            NaN   \n",
      "min       1.000000     14.884534    5.000000        18.000000            NaN   \n",
      "25%      80.500000   1047.555756   15.000000        18.000000            NaN   \n",
      "50%     161.000000   3719.858954   15.000000        18.000000            NaN   \n",
      "75%     234.500000  12886.748054   15.000000        18.000000            NaN   \n",
      "max     305.000000  71615.852476   30.000000        21.000000            NaN   \n",
      "\n",
      "       TuesdayIsDayOff WednesdayIsDayOff ThursdayIsDayOff FridayIsDayOff  \\\n",
      "count              267               267              267            267   \n",
      "unique               1                 1                1              2   \n",
      "top              False             False            False          False   \n",
      "freq               267               267              267            266   \n",
      "mean               NaN               NaN              NaN            NaN   \n",
      "std                NaN               NaN              NaN            NaN   \n",
      "min                NaN               NaN              NaN            NaN   \n",
      "25%                NaN               NaN              NaN            NaN   \n",
      "50%                NaN               NaN              NaN            NaN   \n",
      "75%                NaN               NaN              NaN            NaN   \n",
      "max                NaN               NaN              NaN            NaN   \n",
      "\n",
      "       SaturdayIsDayOff SundayIsDayOff  \n",
      "count               267            267  \n",
      "unique                2              2  \n",
      "top                True           True  \n",
      "freq                254            258  \n",
      "mean                NaN            NaN  \n",
      "std                 NaN            NaN  \n",
      "min                 NaN            NaN  \n",
      "25%                 NaN            NaN  \n",
      "50%                 NaN            NaN  \n",
      "75%                 NaN            NaN  \n",
      "max                 NaN            NaN   \n",
      "\n",
      "UNIQUE VALUES:\n",
      "SiteId 267\n",
      "Surface 267\n",
      "Sampling 4\n",
      "BaseTemperature 3\n",
      "MondayIsDayOff 1\n",
      "TuesdayIsDayOff 1\n",
      "WednesdayIsDayOff 1\n",
      "ThursdayIsDayOff 1\n",
      "FridayIsDayOff 2\n",
      "SaturdayIsDayOff 2\n",
      "SundayIsDayOff 2\n",
      "\n",
      "\n",
      "VARIABLE CATEGORIES: \n",
      "\n",
      "SiteId :  Numerical\n",
      "Surface :  Numerical\n",
      "Sampling :  Numerical\n",
      "BaseTemperature :  Numerical\n",
      "MondayIsDayOff :  Numerical\n",
      "TuesdayIsDayOff :  Numerical\n",
      "WednesdayIsDayOff :  Numerical\n",
      "ThursdayIsDayOff :  Numerical\n",
      "FridayIsDayOff :  Numerical\n",
      "SaturdayIsDayOff :  Numerical\n",
      "SundayIsDayOff :  Numerical\n",
      "None\n"
     ]
    }
   ],
   "source": [
    "datainspect(metadata)"
   ]
  },
  {
   "cell_type": "code",
   "execution_count": 32,
   "metadata": {
    "colab": {
     "base_uri": "https://localhost:8080/",
     "height": 50
    },
    "colab_type": "code",
    "id": "REyorFtJsz66",
    "outputId": "02dbb683-e4f6-43d7-8c6e-dfb45440cfb1"
   },
   "outputs": [
    {
     "data": {
      "text/plain": [
       "False    267\n",
       "Name: MondayIsDayOff, dtype: int64"
      ]
     },
     "execution_count": 32,
     "metadata": {},
     "output_type": "execute_result"
    }
   ],
   "source": [
    "metadata['MondayIsDayOff'].value_counts()\n"
   ]
  },
  {
   "cell_type": "code",
   "execution_count": 33,
   "metadata": {
    "colab": {},
    "colab_type": "code",
    "id": "RvVPSIUYwJGb"
   },
   "outputs": [],
   "source": [
    "def dayoff(dataframe):\n",
    "    print('MONDAY IS A DAY OFF: \\n', dataframe.MondayIsDayOff.value_counts(),'\\n')\n",
    "    print('TUESDAY IS A DAY OFF: \\n', dataframe.TuesdayIsDayOff.value_counts(),'\\n')\n",
    "    print('WEDNESDAY IS A DAY OFF: \\n', dataframe.WednesdayIsDayOff.value_counts(),'\\n')\n",
    "    print('THURSDAY IS A DAY OFF: \\n', dataframe.ThursdayIsDayOff.value_counts(),'\\n')\n",
    "    print('FRIDAY IS A DAY OFF: \\n', dataframe.FridayIsDayOff.value_counts(),'\\n')\n",
    "    print('SATURDAY IS A DAY OFF: \\n', dataframe.SaturdayIsDayOff.value_counts(),'\\n')\n",
    "    print('SUNDAY IS A DAY OFF: \\n', dataframe.SundayIsDayOff.value_counts(),'\\n')"
   ]
  },
  {
   "cell_type": "code",
   "execution_count": 34,
   "metadata": {
    "colab": {
     "base_uri": "https://localhost:8080/",
     "height": 538
    },
    "colab_type": "code",
    "id": "RTaHRtJRwq1M",
    "outputId": "232195cf-c83b-4030-f3e9-18da4cd93810"
   },
   "outputs": [
    {
     "name": "stdout",
     "output_type": "stream",
     "text": [
      "MONDAY IS A DAY OFF: \n",
      " False    267\n",
      "Name: MondayIsDayOff, dtype: int64 \n",
      "\n",
      "TUESDAY IS A DAY OFF: \n",
      " False    267\n",
      "Name: TuesdayIsDayOff, dtype: int64 \n",
      "\n",
      "WEDNESDAY IS A DAY OFF: \n",
      " False    267\n",
      "Name: WednesdayIsDayOff, dtype: int64 \n",
      "\n",
      "THURSDAY IS A DAY OFF: \n",
      " False    267\n",
      "Name: ThursdayIsDayOff, dtype: int64 \n",
      "\n",
      "FRIDAY IS A DAY OFF: \n",
      " False    266\n",
      "True       1\n",
      "Name: FridayIsDayOff, dtype: int64 \n",
      "\n",
      "SATURDAY IS A DAY OFF: \n",
      " True     254\n",
      "False     13\n",
      "Name: SaturdayIsDayOff, dtype: int64 \n",
      "\n",
      "SUNDAY IS A DAY OFF: \n",
      " True     258\n",
      "False      9\n",
      "Name: SundayIsDayOff, dtype: int64 \n",
      "\n"
     ]
    }
   ],
   "source": [
    "dayoff(metadata)"
   ]
  },
  {
   "cell_type": "code",
   "execution_count": 35,
   "metadata": {
    "colab": {
     "base_uri": "https://localhost:8080/",
     "height": 316
    },
    "colab_type": "code",
    "id": "rPdNNZpOxsIb",
    "outputId": "48c0c52f-6b57-423c-c476-0703829208a1"
   },
   "outputs": [
    {
     "data": {
      "image/png": "[encoded data removed]",
      "text/plain": [
       "<Figure size 432x288 with 1 Axes>"
      ]
     },
     "metadata": {
      "needs_background": "light"
     },
     "output_type": "display_data"
    }
   ],
   "source": [
    "metadata.plot(kind='scatter', x='Surface', y='BaseTemperature');"
   ]
  },
  {
   "cell_type": "markdown",
   "metadata": {
    "colab_type": "text",
    "id": "OMg6fjCpF1Ku"
   },
   "source": [
    "# Training Data"
   ]
  },
  {
   "cell_type": "code",
   "execution_count": 36,
   "metadata": {
    "colab": {
     "base_uri": "https://localhost:8080/",
     "height": 34
    },
    "colab_type": "code",
    "id": "dU7eq3QvkiqI",
    "outputId": "02aa8119-ba26-4688-b53f-b6806e464b5b"
   },
   "outputs": [
    {
     "name": "stdout",
     "output_type": "stream",
     "text": [
      "1Ri9t0yrf2A99S8Lqy3DwvydP-jmsokeL\n"
     ]
    }
   ],
   "source": [
    "training_data = 'https://drive.google.com/open?id=1Ri9t0yrf2A99S8Lqy3DwvydP-jmsokeL'\n",
    "fluff, id = training_data.split('=')\n",
    "print (id)"
   ]
  },
  {
   "cell_type": "code",
   "execution_count": 37,
   "metadata": {
    "colab": {
     "base_uri": "https://localhost:8080/",
     "height": 195
    },
    "colab_type": "code",
    "id": "p8fBeuCllIW7",
    "outputId": "3d3bdb29-d7e0-4ee9-c811-83797304ee7a"
   },
   "outputs": [
    {
     "data": {
      "text/html": [
       "<div>\n",
       "<style scoped>\n",
       "    .dataframe tbody tr th:only-of-type {\n",
       "        vertical-align: middle;\n",
       "    }\n",
       "\n",
       "    .dataframe tbody tr th {\n",
       "        vertical-align: top;\n",
       "    }\n",
       "\n",
       "    .dataframe thead th {\n",
       "        text-align: right;\n",
       "    }\n",
       "</style>\n",
       "<table border=\"1\" class=\"dataframe\">\n",
       "  <thead>\n",
       "    <tr style=\"text-align: right;\">\n",
       "      <th></th>\n",
       "      <th>obs_id</th>\n",
       "      <th>SiteId</th>\n",
       "      <th>Timestamp</th>\n",
       "      <th>ForecastId</th>\n",
       "      <th>Value</th>\n",
       "    </tr>\n",
       "  </thead>\n",
       "  <tbody>\n",
       "    <tr>\n",
       "      <th>0</th>\n",
       "      <td>7385825</td>\n",
       "      <td>295</td>\n",
       "      <td>2016-12-13</td>\n",
       "      <td>6576</td>\n",
       "      <td>120000.030698</td>\n",
       "    </tr>\n",
       "    <tr>\n",
       "      <th>1</th>\n",
       "      <td>5463619</td>\n",
       "      <td>295</td>\n",
       "      <td>2016-12-13</td>\n",
       "      <td>6576</td>\n",
       "      <td>54419.278745</td>\n",
       "    </tr>\n",
       "    <tr>\n",
       "      <th>2</th>\n",
       "      <td>339589</td>\n",
       "      <td>295</td>\n",
       "      <td>2016-12-13</td>\n",
       "      <td>6576</td>\n",
       "      <td>35351.037846</td>\n",
       "    </tr>\n",
       "    <tr>\n",
       "      <th>3</th>\n",
       "      <td>3952414</td>\n",
       "      <td>295</td>\n",
       "      <td>2016-12-13</td>\n",
       "      <td>6576</td>\n",
       "      <td>21932.474447</td>\n",
       "    </tr>\n",
       "    <tr>\n",
       "      <th>4</th>\n",
       "      <td>7222988</td>\n",
       "      <td>295</td>\n",
       "      <td>2016-12-14</td>\n",
       "      <td>6576</td>\n",
       "      <td>19379.923271</td>\n",
       "    </tr>\n",
       "  </tbody>\n",
       "</table>\n",
       "</div>"
      ],
      "text/plain": [
       "    obs_id  SiteId   Timestamp  ForecastId          Value\n",
       "0  7385825     295  2016-12-13        6576  120000.030698\n",
       "1  5463619     295  2016-12-13        6576   54419.278745\n",
       "2   339589     295  2016-12-13        6576   35351.037846\n",
       "3  3952414     295  2016-12-13        6576   21932.474447\n",
       "4  7222988     295  2016-12-14        6576   19379.923271"
      ]
     },
     "execution_count": 37,
     "metadata": {},
     "output_type": "execute_result"
    }
   ],
   "source": [
    "training_data = pd.read_csv('../data/power-laws-forecasting-energy-consumption-training-data.csv', sep = ';')\n",
    "training_data.head()"
   ]
  },
  {
   "cell_type": "code",
   "execution_count": 38,
   "metadata": {},
   "outputs": [
    {
     "data": {
      "text/html": [
       "<div>\n",
       "<style scoped>\n",
       "    .dataframe tbody tr th:only-of-type {\n",
       "        vertical-align: middle;\n",
       "    }\n",
       "\n",
       "    .dataframe tbody tr th {\n",
       "        vertical-align: top;\n",
       "    }\n",
       "\n",
       "    .dataframe thead th {\n",
       "        text-align: right;\n",
       "    }\n",
       "</style>\n",
       "<table border=\"1\" class=\"dataframe\">\n",
       "  <thead>\n",
       "    <tr style=\"text-align: right;\">\n",
       "      <th></th>\n",
       "      <th>obs_id</th>\n",
       "      <th>SiteId</th>\n",
       "      <th>Timestamp</th>\n",
       "      <th>ForecastId</th>\n",
       "      <th>Value</th>\n",
       "    </tr>\n",
       "  </thead>\n",
       "  <tbody>\n",
       "    <tr>\n",
       "      <th>0</th>\n",
       "      <td>7385825</td>\n",
       "      <td>295</td>\n",
       "      <td>2016-12-13</td>\n",
       "      <td>6576</td>\n",
       "      <td>120000.030698</td>\n",
       "    </tr>\n",
       "    <tr>\n",
       "      <th>1</th>\n",
       "      <td>5463619</td>\n",
       "      <td>295</td>\n",
       "      <td>2016-12-13</td>\n",
       "      <td>6576</td>\n",
       "      <td>54419.278745</td>\n",
       "    </tr>\n",
       "    <tr>\n",
       "      <th>2</th>\n",
       "      <td>339589</td>\n",
       "      <td>295</td>\n",
       "      <td>2016-12-13</td>\n",
       "      <td>6576</td>\n",
       "      <td>35351.037846</td>\n",
       "    </tr>\n",
       "    <tr>\n",
       "      <th>3</th>\n",
       "      <td>3952414</td>\n",
       "      <td>295</td>\n",
       "      <td>2016-12-13</td>\n",
       "      <td>6576</td>\n",
       "      <td>21932.474447</td>\n",
       "    </tr>\n",
       "    <tr>\n",
       "      <th>4</th>\n",
       "      <td>7222988</td>\n",
       "      <td>295</td>\n",
       "      <td>2016-12-14</td>\n",
       "      <td>6576</td>\n",
       "      <td>19379.923271</td>\n",
       "    </tr>\n",
       "  </tbody>\n",
       "</table>\n",
       "</div>"
      ],
      "text/plain": [
       "    obs_id  SiteId  Timestamp  ForecastId          Value\n",
       "0  7385825     295 2016-12-13        6576  120000.030698\n",
       "1  5463619     295 2016-12-13        6576   54419.278745\n",
       "2   339589     295 2016-12-13        6576   35351.037846\n",
       "3  3952414     295 2016-12-13        6576   21932.474447\n",
       "4  7222988     295 2016-12-14        6576   19379.923271"
      ]
     },
     "execution_count": 38,
     "metadata": {},
     "output_type": "execute_result"
    }
   ],
   "source": [
    "training_data['Timestamp'] = pd.to_datetime(training_data['Timestamp'])\n",
    "training_data.head()"
   ]
  },
  {
   "cell_type": "code",
   "execution_count": 39,
   "metadata": {
    "colab": {
     "base_uri": "https://localhost:8080/",
     "height": 907
    },
    "colab_type": "code",
    "id": "-flb_7gaO-OM",
    "outputId": "99508ee4-c443-4766-f45e-64f4812b4e4a"
   },
   "outputs": [
    {
     "name": "stdout",
     "output_type": "stream",
     "text": [
      "ROWS AND COLUMNS: \n",
      " (6559830, 5) \n",
      "\n",
      "MISSING VALUES: \n",
      " obs_id            0\n",
      "SiteId            0\n",
      "Timestamp         0\n",
      "ForecastId        0\n",
      "Value         86601\n",
      "dtype: int64 \n",
      "\n",
      "DUPLICATE ROWS \n",
      " 0 \n",
      "\n",
      "DATA TYPES: \n",
      " obs_id                 int64\n",
      "SiteId                 int64\n",
      "Timestamp     datetime64[ns]\n",
      "ForecastId             int64\n",
      "Value                float64\n",
      "dtype: object \n",
      "\n",
      "DATAFRAME DESCRIBE: \n",
      " \n",
      "               obs_id        SiteId            Timestamp    ForecastId  \\\n",
      "count   6.559830e+06  6.559830e+06              6559830  6.559830e+06   \n",
      "unique           NaN           NaN                 2931           NaN   \n",
      "top              NaN           NaN  2016-07-08 00:00:00           NaN   \n",
      "freq             NaN           NaN                 7358           NaN   \n",
      "first            NaN           NaN  2009-06-23 00:00:00           NaN   \n",
      "last             NaN           NaN  2017-12-08 00:00:00           NaN   \n",
      "mean    3.935106e+06  1.620964e+02                  NaN  3.482184e+03   \n",
      "std     2.271511e+06  9.392171e+01                  NaN  2.009486e+03   \n",
      "min     0.000000e+00  1.000000e+00                  NaN  1.000000e+00   \n",
      "25%     1.968046e+06  8.700000e+01                  NaN  1.744000e+03   \n",
      "50%     3.935262e+06  1.730000e+02                  NaN  3.489000e+03   \n",
      "75%     5.901983e+06  2.370000e+02                  NaN  5.216000e+03   \n",
      "max     7.869005e+06  3.050000e+02                  NaN  6.974000e+03   \n",
      "\n",
      "               Value  \n",
      "count   6.473229e+06  \n",
      "unique           NaN  \n",
      "top              NaN  \n",
      "freq             NaN  \n",
      "first            NaN  \n",
      "last             NaN  \n",
      "mean    3.560104e+05  \n",
      "std     3.309454e+08  \n",
      "min     0.000000e+00  \n",
      "25%     3.492465e+03  \n",
      "50%     1.408683e+04  \n",
      "75%     4.649371e+04  \n",
      "max     6.404683e+11   \n",
      "\n",
      "UNIQUE VALUES:\n",
      "obs_id 6559830\n",
      "SiteId 267\n",
      "Timestamp 2931\n",
      "ForecastId 6974\n",
      "Value 1933565\n",
      "\n",
      "\n",
      "VARIABLE CATEGORIES: \n",
      "\n",
      "obs_id :  Numerical\n",
      "SiteId :  Numerical\n",
      "Timestamp :  Date\n",
      "ForecastId :  Numerical\n",
      "Value :  Numerical\n",
      "None\n"
     ]
    }
   ],
   "source": [
    "datainspect(training_data)"
   ]
  },
  {
   "cell_type": "code",
   "execution_count": 44,
   "metadata": {
    "colab": {
     "base_uri": "https://localhost:8080/",
     "height": 326
    },
    "colab_type": "code",
    "id": "tEZJCQao03Dw",
    "outputId": "61534ab7-de19-4b0c-efdd-9729b397e8c0"
   },
   "outputs": [],
   "source": [
    "# training_data.plot(kind='scatter', x='ForecastId', y='Value');"
   ]
  },
  {
   "cell_type": "code",
   "execution_count": 45,
   "metadata": {
    "colab": {
     "base_uri": "https://localhost:8080/",
     "height": 282
    },
    "colab_type": "code",
    "id": "XQNWOvFV1T_y",
    "outputId": "aeb9ef14-a3ad-4bdc-a537-7448348a92ad"
   },
   "outputs": [],
   "source": [
    "# corr = training_data.corr()                            # correlation between ALL variables \n",
    "# sns.heatmap(corr, cmap='bwr')"
   ]
  },
  {
   "cell_type": "markdown",
   "metadata": {
    "colab_type": "text",
    "id": "EVPmKIm91t8R"
   },
   "source": [
    "**Correlation Pot**\n",
    "\n",
    "\n",
    "\n",
    "*   forecastId an SiteId are very correlated\n",
    "\n"
   ]
  },
  {
   "cell_type": "markdown",
   "metadata": {
    "colab_type": "text",
    "id": "wlmejkTgUjHS"
   },
   "source": [
    "**Inspecting the Training Data:**\n",
    "\n",
    "\n",
    "*   There are no missing values\n",
    "*   Multiple time-stamps for same Site-id\n",
    "\n"
   ]
  },
  {
   "cell_type": "markdown",
   "metadata": {
    "colab_type": "text",
    "id": "_TJ5RO3cF7ho"
   },
   "source": [
    "# Weather"
   ]
  },
  {
   "cell_type": "code",
   "execution_count": 46,
   "metadata": {
    "colab": {
     "base_uri": "https://localhost:8080/",
     "height": 34
    },
    "colab_type": "code",
    "id": "gmmjRn84lX5-",
    "outputId": "0f16a4f7-1590-49f6-9b7b-053045a94443"
   },
   "outputs": [
    {
     "name": "stdout",
     "output_type": "stream",
     "text": [
      "1QZtFjz61NS0Ebbma42LrGtYZFRSsF3Ij\n"
     ]
    }
   ],
   "source": [
    "weather = 'https://drive.google.com/open?id=1QZtFjz61NS0Ebbma42LrGtYZFRSsF3Ij'\n",
    "fluff, id = weather.split('=')\n",
    "print (id)"
   ]
  },
  {
   "cell_type": "code",
   "execution_count": 47,
   "metadata": {
    "colab": {
     "base_uri": "https://localhost:8080/",
     "height": 195
    },
    "colab_type": "code",
    "id": "UDtjURR6lv1g",
    "outputId": "4e9a5bbd-8d61-4d80-9955-2ac7bde2b7eb"
   },
   "outputs": [
    {
     "data": {
      "text/html": [
       "<div>\n",
       "<style scoped>\n",
       "    .dataframe tbody tr th:only-of-type {\n",
       "        vertical-align: middle;\n",
       "    }\n",
       "\n",
       "    .dataframe tbody tr th {\n",
       "        vertical-align: top;\n",
       "    }\n",
       "\n",
       "    .dataframe thead th {\n",
       "        text-align: right;\n",
       "    }\n",
       "</style>\n",
       "<table border=\"1\" class=\"dataframe\">\n",
       "  <thead>\n",
       "    <tr style=\"text-align: right;\">\n",
       "      <th></th>\n",
       "      <th>Timestamp</th>\n",
       "      <th>Temperature</th>\n",
       "      <th>Distance</th>\n",
       "      <th>SiteId</th>\n",
       "    </tr>\n",
       "  </thead>\n",
       "  <tbody>\n",
       "    <tr>\n",
       "      <th>0</th>\n",
       "      <td>2016-11-10T14:50:00-05:00</td>\n",
       "      <td>17.0</td>\n",
       "      <td>18.071988</td>\n",
       "      <td>278</td>\n",
       "    </tr>\n",
       "    <tr>\n",
       "      <th>1</th>\n",
       "      <td>2016-11-10T17:20:00-05:00</td>\n",
       "      <td>15.0</td>\n",
       "      <td>18.071988</td>\n",
       "      <td>278</td>\n",
       "    </tr>\n",
       "    <tr>\n",
       "      <th>2</th>\n",
       "      <td>2016-11-10T18:00:00-05:00</td>\n",
       "      <td>14.6</td>\n",
       "      <td>20.641517</td>\n",
       "      <td>278</td>\n",
       "    </tr>\n",
       "    <tr>\n",
       "      <th>3</th>\n",
       "      <td>2016-11-11T18:50:00-05:00</td>\n",
       "      <td>14.0</td>\n",
       "      <td>18.071988</td>\n",
       "      <td>278</td>\n",
       "    </tr>\n",
       "    <tr>\n",
       "      <th>4</th>\n",
       "      <td>2016-11-11T23:20:00-05:00</td>\n",
       "      <td>10.0</td>\n",
       "      <td>18.071988</td>\n",
       "      <td>278</td>\n",
       "    </tr>\n",
       "  </tbody>\n",
       "</table>\n",
       "</div>"
      ],
      "text/plain": [
       "                   Timestamp  Temperature   Distance  SiteId\n",
       "0  2016-11-10T14:50:00-05:00         17.0  18.071988     278\n",
       "1  2016-11-10T17:20:00-05:00         15.0  18.071988     278\n",
       "2  2016-11-10T18:00:00-05:00         14.6  20.641517     278\n",
       "3  2016-11-11T18:50:00-05:00         14.0  18.071988     278\n",
       "4  2016-11-11T23:20:00-05:00         10.0  18.071988     278"
      ]
     },
     "execution_count": 47,
     "metadata": {},
     "output_type": "execute_result"
    }
   ],
   "source": [
    "weather = pd.read_csv('../data/power-laws-forecasting-energy-consumption-weather.csv', sep = ';')\n",
    "weather.head()"
   ]
  },
  {
   "cell_type": "code",
   "execution_count": null,
   "metadata": {},
   "outputs": [],
   "source": [
    "weather['Timestamp'] = pd.to_datetime(weather['Timestamp'])\n",
    "weather.head()"
   ]
  },
  {
   "cell_type": "code",
   "execution_count": 40,
   "metadata": {
    "colab": {
     "base_uri": "https://localhost:8080/",
     "height": 840
    },
    "colab_type": "code",
    "id": "Ed94MmXMPUIS",
    "outputId": "3860afc6-208a-4eb2-baa4-576a7ad86879"
   },
   "outputs": [
    {
     "name": "stdout",
     "output_type": "stream",
     "text": [
      "ROWS AND COLUMNS: \n",
      " (19911985, 4) \n",
      "\n",
      "MISSING VALUES: \n",
      " Timestamp      0\n",
      "Temperature    0\n",
      "Distance       0\n",
      "SiteId         0\n",
      "dtype: int64 \n",
      "\n",
      "DUPLICATE ROWS \n",
      " 0 \n",
      "\n",
      "DATA TYPES: \n",
      " Timestamp       object\n",
      "Temperature    float64\n",
      "Distance       float64\n",
      "SiteId           int64\n",
      "dtype: object \n",
      "\n",
      "DATAFRAME DESCRIBE: \n",
      " \n",
      "                         Timestamp   Temperature      Distance        SiteId\n",
      "count                    19911985  1.991198e+07  1.991198e+07  1.991198e+07\n",
      "unique                     485984           NaN           NaN           NaN\n",
      "top     2016-10-29T22:00:00-04:00           NaN           NaN           NaN\n",
      "freq                          543           NaN           NaN           NaN\n",
      "mean                          NaN  1.526614e+01  1.607478e+01  1.668125e+02\n",
      "std                           NaN  8.191821e+00  8.585157e+00  9.611337e+01\n",
      "min                           NaN -2.630000e+01  3.895802e-01  1.000000e+00\n",
      "25%                           NaN  9.400000e+00  7.648476e+00  8.600000e+01\n",
      "50%                           NaN  1.500000e+01  1.638792e+01  1.690000e+02\n",
      "75%                           NaN  2.100000e+01  2.388384e+01  2.620000e+02\n",
      "max                           NaN  4.600000e+01  2.997784e+01  3.040000e+02 \n",
      "\n",
      "UNIQUE VALUES:\n",
      "Timestamp 485984\n",
      "Temperature 693\n",
      "Distance 531\n",
      "SiteId 247\n",
      "\n",
      "\n",
      "VARIABLE CATEGORIES: \n",
      "\n",
      "Timestamp :  Categorical\n",
      "Temperature :  Numerical\n",
      "Distance :  Numerical\n",
      "SiteId :  Numerical\n",
      "None\n"
     ]
    }
   ],
   "source": [
    "datainspect(weather)"
   ]
  },
  {
   "cell_type": "code",
   "execution_count": null,
   "metadata": {
    "colab": {
     "base_uri": "https://localhost:8080/",
     "height": 286
    },
    "colab_type": "code",
    "id": "XdxFLZBb3Rvy",
    "outputId": "c303aebe-0635-4bc8-fcb8-f3d7166b956c"
   },
   "outputs": [],
   "source": [
    "# corr2 = weather.corr()                            # correlation between ALL variables \n",
    "# sns.heatmap(corr2, cmap='bwr')"
   ]
  },
  {
   "cell_type": "code",
   "execution_count": null,
   "metadata": {
    "colab": {},
    "colab_type": "code",
    "id": "fVynhIcOl7Q-"
   },
   "outputs": [],
   "source": [
    "# Variables\n",
    "weather_distance = weather[['Distance']]\n",
    "weather_temp = weather[['Temperature']]\n",
    "training_data_value = training_data[['Value']]\n",
    "training_data_ts = training_data[['Timestamp']]\n",
    "metadata_basetemp = metadata[['BaseTemperature']]\n",
    "metadata_surface = metadata[['Surface']]"
   ]
  },
  {
   "cell_type": "code",
   "execution_count": null,
   "metadata": {
    "colab": {
     "base_uri": "https://localhost:8080/",
     "height": 282
    },
    "colab_type": "code",
    "id": "o4Rta6CJ_qiN",
    "outputId": "0f77fa1c-e1e5-49aa-c07c-bb093ebea7ef"
   },
   "outputs": [],
   "source": [
    "plt.plot(metadata_basetemp)\n",
    "plt.plot(metadata_surface)"
   ]
  },
  {
   "cell_type": "code",
   "execution_count": null,
   "metadata": {},
   "outputs": [],
   "source": []
  }
 ],
 "metadata": {
  "colab": {
   "collapsed_sections": [
    "3SJcZ9NUFnDm",
    "pKmBwIWHFuAH",
    "TT8Nwt5REnIv",
    "SUfcXAWvEsn9",
    "OMg6fjCpF1Ku",
    "_TJ5RO3cF7ho"
   ],
   "name": "team_high_energy.ipynb",
   "provenance": [],
   "version": "0.3.2"
  },
  "kernelspec": {
   "display_name": "Python 3",
   "language": "python",
   "name": "python3"
  },
  "language_info": {
   "codemirror_mode": {
    "name": "ipython",
    "version": 3
   },
   "file_extension": ".py",
   "mimetype": "text/x-python",
   "name": "python",
   "nbconvert_exporter": "python",
   "pygments_lexer": "ipython3",
   "version": "3.7.0"
  }
 },
 "nbformat": 4,
 "nbformat_minor": 1
}
